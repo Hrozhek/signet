{
 "cells": [
  {
   "cell_type": "code",
   "execution_count": 1,
   "metadata": {
    "collapsed": true,
    "ExecuteTime": {
     "start_time": "2023-04-10T22:52:12.040124Z",
     "end_time": "2023-04-10T22:52:31.184458Z"
    }
   },
   "outputs": [
    {
     "name": "stdout",
     "output_type": "stream",
     "text": [
      "Downloading data from https://www.cs.toronto.edu/~kriz/cifar-10-python.tar.gz\n",
      "170498071/170498071 [==============================] - 9s 0us/step\n"
     ]
    }
   ],
   "source": [
    "import keras\n",
    "from keras.datasets import cifar10\n",
    "from keras.models import Sequential\n",
    "from keras.layers import Dense, Dropout, Flatten\n",
    "from keras.layers import Conv2D, MaxPooling2D\n",
    "from keras.utils import to_categorical\n",
    "import numpy as np\n",
    "import matplotlib.pyplot as plt\n",
    "\n",
    "(x_train, y_train), (x_test, y_test) = cifar10.load_data()\n",
    "\n",
    "y_train = to_categorical(y_train)\n",
    "y_test = to_categorical(y_test)\n",
    "\n",
    "x_train = x_train.astype('float32') / 255\n",
    "x_test = x_test.astype('float32') / 255\n"
   ]
  },
  {
   "cell_type": "code",
   "execution_count": 2,
   "outputs": [],
   "source": [
    "model = Sequential()\n",
    "model.add(Conv2D(32, (3, 3), activation='relu', padding='same', input_shape=x_train.shape[1:]))\n",
    "model.add(Conv2D(32, (3, 3), activation='relu'))\n",
    "model.add(MaxPooling2D(pool_size=(2, 2)))\n",
    "model.add(Dropout(0.25))\n",
    "\n",
    "model.add(Conv2D(64, (3, 3), activation='relu', padding='same'))\n",
    "model.add(Conv2D(64, (3, 3), activation='relu'))\n",
    "model.add(MaxPooling2D(pool_size=(2, 2)))\n",
    "model.add(Dropout(0.25))\n",
    "\n",
    "model.add(Flatten())\n",
    "model.add(Dense(512, activation='relu'))\n",
    "model.add(Dropout(0.5))\n",
    "model.add(Dense(10, activation='softmax'))"
   ],
   "metadata": {
    "collapsed": false,
    "ExecuteTime": {
     "start_time": "2023-04-10T22:53:13.725510Z",
     "end_time": "2023-04-10T22:53:13.936632Z"
    }
   }
  },
  {
   "cell_type": "code",
   "execution_count": 3,
   "outputs": [
    {
     "name": "stdout",
     "output_type": "stream",
     "text": [
      "Epoch 1/10\n",
      "391/391 [==============================] - 40s 100ms/step - loss: 1.6397 - accuracy: 0.3997 - val_loss: 1.2916 - val_accuracy: 0.5284\n",
      "Epoch 2/10\n",
      "391/391 [==============================] - 53s 134ms/step - loss: 1.2331 - accuracy: 0.5585 - val_loss: 1.0537 - val_accuracy: 0.6336\n",
      "Epoch 3/10\n",
      "391/391 [==============================] - 38s 97ms/step - loss: 1.0458 - accuracy: 0.6307 - val_loss: 0.9061 - val_accuracy: 0.6799\n",
      "Epoch 4/10\n",
      "391/391 [==============================] - 54s 138ms/step - loss: 0.9262 - accuracy: 0.6731 - val_loss: 0.8363 - val_accuracy: 0.7072\n",
      "Epoch 5/10\n",
      "391/391 [==============================] - 56s 143ms/step - loss: 0.8454 - accuracy: 0.7060 - val_loss: 0.7872 - val_accuracy: 0.7267\n",
      "Epoch 6/10\n",
      "391/391 [==============================] - 55s 142ms/step - loss: 0.7751 - accuracy: 0.7295 - val_loss: 0.7355 - val_accuracy: 0.7436\n",
      "Epoch 7/10\n",
      "391/391 [==============================] - 55s 141ms/step - loss: 0.7338 - accuracy: 0.7440 - val_loss: 0.7146 - val_accuracy: 0.7562\n",
      "Epoch 8/10\n",
      "391/391 [==============================] - 56s 142ms/step - loss: 0.6897 - accuracy: 0.7595 - val_loss: 0.6635 - val_accuracy: 0.7677\n",
      "Epoch 9/10\n",
      "391/391 [==============================] - 56s 142ms/step - loss: 0.6537 - accuracy: 0.7747 - val_loss: 0.6682 - val_accuracy: 0.7678\n",
      "Epoch 10/10\n",
      "391/391 [==============================] - 55s 141ms/step - loss: 0.6189 - accuracy: 0.7859 - val_loss: 0.6548 - val_accuracy: 0.7734\n"
     ]
    }
   ],
   "source": [
    "model.compile(loss='categorical_crossentropy',\n",
    "              optimizer='adam',\n",
    "              metrics=['accuracy'])\n",
    "\n",
    "history = model.fit(x_train, y_train,\n",
    "                    batch_size=128,\n",
    "                    epochs=10,\n",
    "                    validation_data=(x_test, y_test),\n",
    "                    shuffle=True)"
   ],
   "metadata": {
    "collapsed": false,
    "ExecuteTime": {
     "start_time": "2023-04-10T22:53:39.513930Z",
     "end_time": "2023-04-10T23:02:16.840576Z"
    }
   }
  },
  {
   "cell_type": "code",
   "execution_count": 4,
   "outputs": [
    {
     "name": "stdout",
     "output_type": "stream",
     "text": [
      "Test loss: 0.6548231244087219\n",
      "Test accuracy: 0.7734000086784363\n"
     ]
    }
   ],
   "source": [
    "score = model.evaluate(x_test, y_test, verbose=0)\n",
    "print('Test loss:', score[0])\n",
    "print('Test accuracy:', score[1])"
   ],
   "metadata": {
    "collapsed": false,
    "ExecuteTime": {
     "start_time": "2023-04-10T23:02:46.784134Z",
     "end_time": "2023-04-10T23:02:48.984242Z"
    }
   }
  },
  {
   "cell_type": "code",
   "execution_count": 7,
   "outputs": [
    {
     "name": "stdout",
     "output_type": "stream",
     "text": [
      "1/1 [==============================] - 0s 426ms/step\n",
      "[[8.4037989e-01 3.0958402e-06 5.8706868e-02 3.2803821e-03 6.8649061e-02\n",
      "  1.6034594e-04 2.2155570e-03 1.2221275e-04 2.6420096e-02 6.2425162e-05]]\n"
     ]
    }
   ],
   "source": [
    "import keras.utils as image\n",
    "\n",
    "img_path = 'F:\\\\Desktop\\\\real.png'\n",
    "img = image.load_img(img_path, target_size=(32, 32))\n",
    "img_tensor = image.img_to_array(img)\n",
    "img_tensor = np.expand_dims(img_tensor, axis=0)\n",
    "img_tensor /= 255.\n",
    "\n",
    "pred = model.predict(img_tensor)\n",
    "print(pred)"
   ],
   "metadata": {
    "collapsed": false,
    "ExecuteTime": {
     "start_time": "2023-04-10T23:07:45.829248Z",
     "end_time": "2023-04-10T23:07:46.473876Z"
    }
   }
  },
  {
   "cell_type": "code",
   "execution_count": null,
   "outputs": [],
   "source": [],
   "metadata": {
    "collapsed": false
   }
  }
 ],
 "metadata": {
  "kernelspec": {
   "display_name": "Python 3",
   "language": "python",
   "name": "python3"
  },
  "language_info": {
   "codemirror_mode": {
    "name": "ipython",
    "version": 2
   },
   "file_extension": ".py",
   "mimetype": "text/x-python",
   "name": "python",
   "nbconvert_exporter": "python",
   "pygments_lexer": "ipython2",
   "version": "2.7.6"
  }
 },
 "nbformat": 4,
 "nbformat_minor": 0
}
