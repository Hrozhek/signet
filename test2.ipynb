{
 "cells": [
  {
   "cell_type": "code",
   "execution_count": 2,
   "metadata": {
    "collapsed": true,
    "ExecuteTime": {
     "start_time": "2023-04-11T15:36:41.496945Z",
     "end_time": "2023-04-11T15:36:48.677826Z"
    }
   },
   "outputs": [],
   "source": [
    "import keras\n",
    "from keras.datasets import cifar10\n",
    "from keras.models import Sequential\n",
    "from keras.layers import Dense, Dropout, Flatten\n",
    "from keras.layers import Conv2D, MaxPooling2D\n",
    "from keras.utils import to_categorical\n",
    "import numpy as np\n",
    "import matplotlib.pyplot as plt\n",
    "from keras.preprocessing import image"
   ]
  },
  {
   "cell_type": "code",
   "execution_count": 3,
   "outputs": [],
   "source": [
    "(x_train, y_train), (x_test, y_test) = cifar10.load_data()"
   ],
   "metadata": {
    "collapsed": false,
    "ExecuteTime": {
     "start_time": "2023-04-11T15:36:48.677826Z",
     "end_time": "2023-04-11T15:36:49.887456Z"
    }
   }
  },
  {
   "cell_type": "code",
   "execution_count": 4,
   "outputs": [],
   "source": [
    "y_train = to_categorical(y_train)\n",
    "y_test = to_categorical(y_test)\n",
    "\n",
    "x_train = x_train.astype('float32') / 255\n",
    "x_test = x_test.astype('float32') / 255"
   ],
   "metadata": {
    "collapsed": false,
    "ExecuteTime": {
     "start_time": "2023-04-11T15:36:49.887456Z",
     "end_time": "2023-04-11T15:36:50.158777Z"
    }
   }
  },
  {
   "cell_type": "code",
   "execution_count": 5,
   "outputs": [],
   "source": [
    "model = Sequential()\n",
    "model.add(Conv2D(32, (3, 3), activation='relu', padding='same', input_shape=x_train.shape[1:]))\n",
    "model.add(Conv2D(32, (3, 3), activation='relu'))\n",
    "model.add(MaxPooling2D(pool_size=(2, 2)))\n",
    "model.add(Dropout(0.25))\n",
    "\n",
    "model.add(Conv2D(64, (3, 3), activation='relu', padding='same'))\n",
    "model.add(Conv2D(64, (3, 3), activation='relu'))\n",
    "model.add(MaxPooling2D(pool_size=(2, 2)))\n",
    "model.add(Dropout(0.25))\n",
    "\n",
    "model.add(Flatten())\n",
    "model.add(Dense(512, activation='relu'))\n",
    "model.add(Dropout(0.5))\n",
    "model.add(Dense(10, activation='softmax'))"
   ],
   "metadata": {
    "collapsed": false,
    "ExecuteTime": {
     "start_time": "2023-04-11T15:36:50.158777Z",
     "end_time": "2023-04-11T15:36:50.377192Z"
    }
   }
  },
  {
   "cell_type": "code",
   "execution_count": 6,
   "outputs": [],
   "source": [
    "model.compile(loss='categorical_crossentropy',\n",
    "              optimizer='adam',\n",
    "              metrics=['accuracy'])"
   ],
   "metadata": {
    "collapsed": false,
    "ExecuteTime": {
     "start_time": "2023-04-11T15:36:50.377192Z",
     "end_time": "2023-04-11T15:36:50.392819Z"
    }
   }
  },
  {
   "cell_type": "code",
   "execution_count": 7,
   "outputs": [
    {
     "name": "stdout",
     "output_type": "stream",
     "text": [
      "Epoch 1/10\n",
      "391/391 [==============================] - 41s 101ms/step - loss: 1.6094 - accuracy: 0.4085 - val_loss: 1.2229 - val_accuracy: 0.5585\n",
      "Epoch 2/10\n",
      "391/391 [==============================] - 39s 100ms/step - loss: 1.2191 - accuracy: 0.5640 - val_loss: 1.0499 - val_accuracy: 0.6316\n",
      "Epoch 3/10\n",
      "391/391 [==============================] - 44s 114ms/step - loss: 1.0385 - accuracy: 0.6317 - val_loss: 0.8937 - val_accuracy: 0.6855\n",
      "Epoch 4/10\n",
      "391/391 [==============================] - 45s 114ms/step - loss: 0.9327 - accuracy: 0.6704 - val_loss: 0.8443 - val_accuracy: 0.7032\n",
      "Epoch 5/10\n",
      "391/391 [==============================] - 44s 112ms/step - loss: 0.8488 - accuracy: 0.6991 - val_loss: 0.7900 - val_accuracy: 0.7260\n",
      "Epoch 6/10\n",
      "391/391 [==============================] - 43s 110ms/step - loss: 0.7852 - accuracy: 0.7239 - val_loss: 0.7352 - val_accuracy: 0.7460\n",
      "Epoch 7/10\n",
      "391/391 [==============================] - 41s 105ms/step - loss: 0.7391 - accuracy: 0.7409 - val_loss: 0.7122 - val_accuracy: 0.7514\n",
      "Epoch 8/10\n",
      "391/391 [==============================] - 42s 108ms/step - loss: 0.6963 - accuracy: 0.7541 - val_loss: 0.7010 - val_accuracy: 0.7566\n",
      "Epoch 9/10\n",
      "391/391 [==============================] - 42s 107ms/step - loss: 0.6562 - accuracy: 0.7687 - val_loss: 0.6644 - val_accuracy: 0.7704\n",
      "Epoch 10/10\n",
      "391/391 [==============================] - 40s 102ms/step - loss: 0.6284 - accuracy: 0.7790 - val_loss: 0.6541 - val_accuracy: 0.7743\n"
     ]
    }
   ],
   "source": [
    "history = model.fit(x_train, y_train,\n",
    "                    batch_size=128,\n",
    "                    epochs=10,\n",
    "                    validation_data=(x_test, y_test),\n",
    "                    shuffle=True)"
   ],
   "metadata": {
    "collapsed": false,
    "ExecuteTime": {
     "start_time": "2023-04-11T15:36:50.392819Z",
     "end_time": "2023-04-11T15:43:51.564506Z"
    }
   }
  },
  {
   "cell_type": "code",
   "execution_count": 8,
   "outputs": [
    {
     "name": "stdout",
     "output_type": "stream",
     "text": [
      "Test loss: 0.6540575623512268\n",
      "Test accuracy: 0.7742999792098999\n"
     ]
    }
   ],
   "source": [
    "score = model.evaluate(x_test, y_test, verbose=0)\n",
    "print('Test loss:', score[0])\n",
    "print('Test accuracy:', score[1])"
   ],
   "metadata": {
    "collapsed": false,
    "ExecuteTime": {
     "start_time": "2023-04-11T15:43:51.567758Z",
     "end_time": "2023-04-11T15:43:53.719189Z"
    }
   }
  },
  {
   "cell_type": "code",
   "execution_count": 9,
   "outputs": [
    {
     "name": "stdout",
     "output_type": "stream",
     "text": [
      "1/1 [==============================] - 0s 112ms/step\n",
      "1/1 [==============================] - 0s 18ms/step\n",
      "The signature in the test image is authentic.\n"
     ]
    }
   ],
   "source": [
    "import keras.utils as image\n",
    "\n",
    "sample_img_path = 'F:\\\\Desktop\\\\real.png'\n",
    "test_img_path = 'F:\\\\Desktop\\\\forged.png'\n",
    "\n",
    "sample_img = image.load_img(sample_img_path, target_size=(32, 32))\n",
    "sample_img_tensor = image.img_to_array(sample_img)\n",
    "sample_img_tensor = np.expand_dims(sample_img_tensor, axis=0)\n",
    "sample_img_tensor /= 255.\n",
    "\n",
    "test_img = image.load_img(test_img_path, target_size=(32, 32))\n",
    "test_img_tensor = image.img_to_array(test_img)\n",
    "test_img_tensor = np.expand_dims(test_img_tensor, axis=0)\n",
    "test_img_tensor /= 255.\n",
    "\n",
    "pred_sample = model.predict(sample_img_tensor)\n",
    "pred_test = model.predict(test_img_tensor)\n",
    "\n",
    "if pred_test.argmax() == pred_sample.argmax():\n",
    "    print('The signature in the test image is authentic.')\n",
    "else:\n",
    "    print('The signature in the test image is fake.')"
   ],
   "metadata": {
    "collapsed": false,
    "ExecuteTime": {
     "start_time": "2023-04-11T15:43:53.720189Z",
     "end_time": "2023-04-11T15:43:53.973246Z"
    }
   }
  },
  {
   "cell_type": "code",
   "execution_count": 10,
   "outputs": [
    {
     "name": "stdout",
     "output_type": "stream",
     "text": [
      "1/1 [==============================] - 0s 13ms/step\n",
      "1/1 [==============================] - 0s 16ms/step\n",
      "The signature in the test image is authentic.\n"
     ]
    }
   ],
   "source": [
    "sample_img_path = 'F:\\\\Desktop\\\\real2.png'\n",
    "test_img_path = 'F:\\\\Desktop\\\\real3.png'\n",
    "\n",
    "sample_img = image.load_img(sample_img_path, target_size=(32, 32))\n",
    "sample_img_tensor = image.img_to_array(sample_img)\n",
    "sample_img_tensor = np.expand_dims(sample_img_tensor, axis=0)\n",
    "sample_img_tensor /= 255.\n",
    "\n",
    "test_img = image.load_img(test_img_path, target_size=(32, 32))\n",
    "test_img_tensor = image.img_to_array(test_img)\n",
    "test_img_tensor = np.expand_dims(test_img_tensor, axis=0)\n",
    "test_img_tensor /= 255.\n",
    "\n",
    "pred_sample = model.predict(sample_img_tensor)\n",
    "pred_test = model.predict(test_img_tensor)\n",
    "\n",
    "if pred_test.argmax() == pred_sample.argmax():\n",
    "    print('The signature in the test image is authentic.')\n",
    "else:\n",
    "    print('The signature in the test image is fake.')"
   ],
   "metadata": {
    "collapsed": false,
    "ExecuteTime": {
     "start_time": "2023-04-11T15:43:53.973246Z",
     "end_time": "2023-04-11T15:43:54.083408Z"
    }
   }
  },
  {
   "cell_type": "code",
   "execution_count": 11,
   "outputs": [
    {
     "name": "stdout",
     "output_type": "stream",
     "text": [
      "1/1 [==============================] - 0s 13ms/step\n",
      "1/1 [==============================] - 0s 19ms/step\n",
      "The signature in the test image is fake.\n"
     ]
    }
   ],
   "source": [
    "sample_img_path = 'F:\\\\Desktop\\\\original_1_2.png'\n",
    "test_img_path = 'F:\\\\Desktop\\\\forgeries_1_2.png'\n",
    "\n",
    "sample_img = image.load_img(sample_img_path, target_size=(32, 32))\n",
    "sample_img_tensor = image.img_to_array(sample_img)\n",
    "sample_img_tensor = np.expand_dims(sample_img_tensor, axis=0)\n",
    "sample_img_tensor /= 255.\n",
    "\n",
    "test_img = image.load_img(test_img_path, target_size=(32, 32))\n",
    "test_img_tensor = image.img_to_array(test_img)\n",
    "test_img_tensor = np.expand_dims(test_img_tensor, axis=0)\n",
    "test_img_tensor /= 255.\n",
    "\n",
    "pred_sample = model.predict(sample_img_tensor)\n",
    "pred_test = model.predict(test_img_tensor)\n",
    "\n",
    "if pred_test.argmax() == pred_sample.argmax():\n",
    "    print('The signature in the test image is authentic.')\n",
    "else:\n",
    "    print('The signature in the test image is fake.')"
   ],
   "metadata": {
    "collapsed": false,
    "ExecuteTime": {
     "start_time": "2023-04-11T15:43:54.086409Z",
     "end_time": "2023-04-11T15:43:54.203802Z"
    }
   }
  },
  {
   "cell_type": "code",
   "execution_count": 12,
   "outputs": [
    {
     "name": "stdout",
     "output_type": "stream",
     "text": [
      "1/1 [==============================] - 0s 13ms/step\n",
      "1/1 [==============================] - 0s 16ms/step\n",
      "The signature in the test image is fake.\n"
     ]
    }
   ],
   "source": [
    "sample_img_path = 'F:\\\\Desktop\\\\original_3_19.png'\n",
    "test_img_path = 'F:\\\\Desktop\\\\forgeries_3_18.png'\n",
    "\n",
    "sample_img = image.load_img(sample_img_path, target_size=(32, 32))\n",
    "sample_img_tensor = image.img_to_array(sample_img)\n",
    "sample_img_tensor = np.expand_dims(sample_img_tensor, axis=0)\n",
    "sample_img_tensor /= 255.\n",
    "\n",
    "test_img = image.load_img(test_img_path, target_size=(32, 32))\n",
    "test_img_tensor = image.img_to_array(test_img)\n",
    "test_img_tensor = np.expand_dims(test_img_tensor, axis=0)\n",
    "test_img_tensor /= 255.\n",
    "\n",
    "pred_sample = model.predict(sample_img_tensor)\n",
    "pred_test = model.predict(test_img_tensor)\n",
    "\n",
    "if pred_test.argmax() == pred_sample.argmax():\n",
    "    print('The signature in the test image is authentic.')\n",
    "else:\n",
    "    print('The signature in the test image is fake.')"
   ],
   "metadata": {
    "collapsed": false,
    "ExecuteTime": {
     "start_time": "2023-04-11T15:43:54.183830Z",
     "end_time": "2023-04-11T15:43:54.300119Z"
    }
   }
  },
  {
   "cell_type": "code",
   "execution_count": 13,
   "outputs": [
    {
     "name": "stdout",
     "output_type": "stream",
     "text": [
      "8\n"
     ]
    }
   ],
   "source": [
    " print(pred_test.argmax())"
   ],
   "metadata": {
    "collapsed": false,
    "ExecuteTime": {
     "start_time": "2023-04-11T15:53:42.260752Z",
     "end_time": "2023-04-11T15:53:42.276381Z"
    }
   }
  },
  {
   "cell_type": "code",
   "execution_count": null,
   "outputs": [],
   "source": [],
   "metadata": {
    "collapsed": false
   }
  }
 ],
 "metadata": {
  "kernelspec": {
   "display_name": "Python 3",
   "language": "python",
   "name": "python3"
  },
  "language_info": {
   "codemirror_mode": {
    "name": "ipython",
    "version": 2
   },
   "file_extension": ".py",
   "mimetype": "text/x-python",
   "name": "python",
   "nbconvert_exporter": "python",
   "pygments_lexer": "ipython2",
   "version": "2.7.6"
  }
 },
 "nbformat": 4,
 "nbformat_minor": 0
}
